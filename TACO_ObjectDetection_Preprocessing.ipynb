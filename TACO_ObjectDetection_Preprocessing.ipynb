{
  "nbformat": 4,
  "nbformat_minor": 0,
  "metadata": {
    "colab": {
      "provenance": []
    },
    "kernelspec": {
      "name": "python3",
      "display_name": "Python 3"
    },
    "language_info": {
      "name": "python"
    }
  },
  "cells": [
    {
      "cell_type": "code",
      "execution_count": null,
      "metadata": {
        "colab": {
          "base_uri": "https://localhost:8080/"
        },
        "id": "POl7vkFVb0-M",
        "outputId": "82ca0518-72c7-4a13-a6c5-4cff182529e3"
      },
      "outputs": [
        {
          "output_type": "stream",
          "name": "stdout",
          "text": [
            "Mounted at /content/drive\n"
          ]
        }
      ],
      "source": [
        "from google.colab import drive\n",
        "drive.mount('/content/drive',force_remount=True)"
      ]
    },
    {
      "cell_type": "code",
      "source": [
        "%cd '/content/drive/MyDrive'"
      ],
      "metadata": {
        "colab": {
          "base_uri": "https://localhost:8080/"
        },
        "id": "CMRO71Shb8h2",
        "outputId": "4630565c-133b-41a1-99a0-f4e0c6d73b96"
      },
      "execution_count": null,
      "outputs": [
        {
          "output_type": "stream",
          "name": "stdout",
          "text": [
            "/content/drive/MyDrive\n"
          ]
        }
      ]
    },
    {
      "cell_type": "code",
      "source": [
        "import numpy as np\n",
        "import pandas as pd\n",
        "import tensorflow as tf\n",
        "from PIL import Image\n",
        "from matplotlib import pyplot as plt\n",
        "from tensorflow.python.util import compat\n",
        "from tensorflow.core.protobuf import saved_model_pb2\n",
        "from google.protobuf import text_format\n",
        "import pprint\n",
        "import json\n",
        "import os\n",
        "from sklearn.model_selection import train_test_split"
      ],
      "metadata": {
        "id": "gMFAMoYXZBvk"
      },
      "execution_count": null,
      "outputs": []
    },
    {
      "cell_type": "code",
      "source": [
        "dataset_url = '/content/drive/MyDrive/data/meta_df_csv.csv'\n",
        "data = pd.read_csv(dataset_url)\n",
        "print(data.head())"
      ],
      "metadata": {
        "id": "_SxNQhXJhRkx",
        "colab": {
          "base_uri": "https://localhost:8080/"
        },
        "outputId": "a7cfeaea-620f-4f90-e95d-e165fcf6c509"
      },
      "execution_count": null,
      "outputs": [
        {
          "output_type": "stream",
          "name": "stdout",
          "text": [
            "   img_id  img_width  img_height            img_file  cat_id  \\\n",
            "0       0       1537        2049  batch_1_000006.jpg       6   \n",
            "1       1       1537        2049  batch_1_000008.jpg      18   \n",
            "2       1       1537        2049  batch_1_000008.jpg      14   \n",
            "3       2       1537        2049  batch_1_000010.jpg       5   \n",
            "4       2       1537        2049  batch_1_000010.jpg       7   \n",
            "\n",
            "               cat_name supercategory  ann_id      x      y   width  height  \\\n",
            "0          Glass bottle        Bottle       1  517.0  127.0   447.0  1322.0   \n",
            "1           Meal carton        Carton       2    1.0  457.0  1429.0  1519.0   \n",
            "2          Other carton        Carton       3  531.0  292.0  1006.0   672.0   \n",
            "3  Clear plastic bottle        Bottle       4  632.0  987.0   500.0   374.0   \n",
            "4    Plastic bottle cap    Bottle cap       5  632.0  989.0    44.0    51.0   \n",
            "\n",
            "        area  \n",
            "0   403954.0  \n",
            "1  1071259.5  \n",
            "2    99583.5  \n",
            "3    73832.5  \n",
            "4      915.0  \n"
          ]
        }
      ]
    },
    {
      "cell_type": "code",
      "source": [
        "y = data.cat_name"
      ],
      "metadata": {
        "id": "nNTfm2a3gfrt"
      },
      "execution_count": null,
      "outputs": []
    },
    {
      "cell_type": "code",
      "source": [
        "X_train, X_test, y_train, y_test = train_test_split(data, y, test_size=0.1, random_state=1)\n",
        "\n",
        "X_train, X_val, y_train, y_val = train_test_split(X_train, y_train, test_size=0.2, random_state=1)\n",
        "\n",
        "print(\"\\nX_train:\\n\")\n",
        "print(X_train.head())\n",
        "print(X_train.shape)\n",
        "\n",
        "print(\"\\nX_test:\\n\")\n",
        "print(X_test.head())\n",
        "print(X_test.shape)\n",
        "\n",
        "print(\"\\ny_train:\\n\")\n",
        "print(y_train.head())\n",
        "print(y_train.shape)\n",
        "\n",
        "print(\"\\ny_test:\\n\")\n",
        "print(y_test.head())\n",
        "print(y_test.shape)\n",
        "\n",
        "print(\"\\nX_val:\\n\")\n",
        "print(X_val.head())\n",
        "print(X_val.shape)\n",
        "\n",
        "print(\"\\ny_val:\\n\")\n",
        "print(y_val.head())\n",
        "print(y_val.shape)\n"
      ],
      "metadata": {
        "colab": {
          "base_uri": "https://localhost:8080/"
        },
        "id": "UtdyzBbFgtDw",
        "outputId": "ae3a66ea-0c5a-4097-862e-4b506e57a43a"
      },
      "execution_count": null,
      "outputs": [
        {
          "output_type": "stream",
          "name": "stdout",
          "text": [
            "\n",
            "X_train:\n",
            "\n",
            "      img_id  img_width  img_height             img_file  cat_id  \\\n",
            "4584    1443       2448        3264   batch_9_000043.jpg      36   \n",
            "1153     348       2976        3968  batch_12_000047.jpg      21   \n",
            "4720    1484       1824        4000   batch_9_000084.jpg      58   \n",
            "3618    1167       2448        3264   batch_6_000007.JPG      36   \n",
            "805      256       3024        4032  batch_11_000055.jpg      57   \n",
            "\n",
            "                    cat_name          supercategory  ann_id       x       y  \\\n",
            "4584            Plastic film  Plastic bag & wrapper    4584  1309.0  2047.0   \n",
            "1153  Disposable plastic cup                    Cup    1153  1532.0  1051.0   \n",
            "4720        Unlabeled litter       Unlabeled litter    4720  1301.0  2148.0   \n",
            "3618            Plastic film  Plastic bag & wrapper    3567   879.0  1411.0   \n",
            "805          Styrofoam piece        Styrofoam piece     805   926.0  2200.0   \n",
            "\n",
            "       width  height      area  \n",
            "4584   379.0   251.0   26965.0  \n",
            "1153    79.0   109.0    6683.0  \n",
            "4720    80.0    76.0    2263.5  \n",
            "3618  1543.0   921.0  880609.0  \n",
            "805    986.0   627.0  225741.0  \n",
            "(3444, 13)\n",
            "\n",
            "X_test:\n",
            "\n",
            "      img_id  img_width  img_height             img_file  cat_id  \\\n",
            "1851     598       3024        4032  batch_14_000097.jpg       9   \n",
            "3060    1026       2448        3264   batch_5_000009.JPG      55   \n",
            "2242     705       3264        2448   batch_2_000023.JPG      42   \n",
            "2051     632       3024        4032  batch_15_000031.jpg      59   \n",
            "4356    1361       1200        1600   batch_8_000061.jpg       5   \n",
            "\n",
            "                  cat_name          supercategory  ann_id       x       y  \\\n",
            "1851          Broken glass           Broken glass    1851   663.0  2390.0   \n",
            "3060         Plastic straw                  Straw    3050  1476.0  1010.0   \n",
            "2242          Crisp packet  Plastic bag & wrapper    2240  1549.0  1081.0   \n",
            "2051             Cigarette              Cigarette    2051  1726.0   816.0   \n",
            "4356  Clear plastic bottle                 Bottle    4356   562.0   801.0   \n",
            "\n",
            "       width  height      area  \n",
            "1851  1096.0  1035.0  121733.5  \n",
            "3060    97.0   363.0    5537.0  \n",
            "2242   428.0   236.0   77085.5  \n",
            "2051   119.0    57.0    5198.0  \n",
            "4356    97.0   194.0   13604.5  \n",
            "(479, 13)\n",
            "\n",
            "y_train:\n",
            "\n",
            "4584              Plastic film\n",
            "1153    Disposable plastic cup\n",
            "4720          Unlabeled litter\n",
            "3618              Plastic film\n",
            "805            Styrofoam piece\n",
            "Name: cat_name, dtype: object\n",
            "(3444,)\n",
            "\n",
            "y_test:\n",
            "\n",
            "1851            Broken glass\n",
            "3060           Plastic straw\n",
            "2242            Crisp packet\n",
            "2051               Cigarette\n",
            "4356    Clear plastic bottle\n",
            "Name: cat_name, dtype: object\n",
            "(479,)\n",
            "\n",
            "X_val:\n",
            "\n",
            "      img_id  img_width  img_height            img_file  cat_id  \\\n",
            "3510    1132       2448        3264  batch_6_000046.JPG      59   \n",
            "2941     972       2448        3264  batch_5_000081.JPG      52   \n",
            "3019    1009       3264        2448  batch_5_000110.JPG      36   \n",
            "3640    1175       6000        4000  batch_7_000002.JPG      55   \n",
            "3592    1157       3264        2448  batch_6_000019.JPG       5   \n",
            "\n",
            "                  cat_name          supercategory  ann_id       x       y  \\\n",
            "3510             Cigarette              Cigarette    3625    48.0  1732.0   \n",
            "2941           Scrap metal            Scrap metal    2939   177.0  2398.0   \n",
            "3019          Plastic film  Plastic bag & wrapper    3010   787.0  1695.0   \n",
            "3640         Plastic straw                  Straw    3641  2707.0  3053.0   \n",
            "3592  Clear plastic bottle                 Bottle    3547   950.0   804.0   \n",
            "\n",
            "      width  height      area  \n",
            "3510   48.0    22.0     318.0  \n",
            "2941  446.0    53.0   16668.5  \n",
            "3019  271.0   227.0   36653.5  \n",
            "3640  532.0   501.0   23319.0  \n",
            "3592  904.0   604.0  274282.5  \n",
            "(861, 13)\n",
            "\n",
            "y_val:\n",
            "\n",
            "3510               Cigarette\n",
            "2941             Scrap metal\n",
            "3019            Plastic film\n",
            "3640           Plastic straw\n",
            "3592    Clear plastic bottle\n",
            "Name: cat_name, dtype: object\n",
            "(861,)\n"
          ]
        }
      ]
    },
    {
      "cell_type": "code",
      "source": [
        "import shutil\n",
        "\n",
        "rootdir='/content/drive/MyDrive/data'\n",
        "#os.makedirs(rootdir +'/train/')\n",
        "#os.makedirs(rootdir +'/test/')\n",
        "#os.makedirs(rootdir + '/val/')"
      ],
      "metadata": {
        "id": "XS3czDW6hKyz"
      },
      "execution_count": null,
      "outputs": []
    },
    {
      "cell_type": "code",
      "source": [
        "print(X_train.img_file)"
      ],
      "metadata": {
        "colab": {
          "base_uri": "https://localhost:8080/"
        },
        "id": "qbNblBZtjspR",
        "outputId": "7571dae6-3f9d-48b9-e8b9-b5cea324ccf1"
      },
      "execution_count": null,
      "outputs": [
        {
          "output_type": "stream",
          "name": "stdout",
          "text": [
            "4584     batch_9_000043.jpg\n",
            "1153    batch_12_000047.jpg\n",
            "4720     batch_9_000084.jpg\n",
            "3618     batch_6_000007.JPG\n",
            "805     batch_11_000055.jpg\n",
            "               ...         \n",
            "2992     batch_5_000070.JPG\n",
            "424     batch_10_000022.jpg\n",
            "3381     batch_6_000072.JPG\n",
            "907     batch_11_000097.jpg\n",
            "1881    batch_15_000000.jpg\n",
            "Name: img_file, Length: 3444, dtype: object\n"
          ]
        }
      ]
    },
    {
      "cell_type": "code",
      "source": [
        "image = X_train.img_file[0]\n",
        "print(image[0:15])"
      ],
      "metadata": {
        "colab": {
          "base_uri": "https://localhost:8080/"
        },
        "id": "mFPpu8UrnmO2",
        "outputId": "a3bec69a-769c-4d8a-b6ae-05c170985799"
      },
      "execution_count": null,
      "outputs": [
        {
          "output_type": "stream",
          "name": "stdout",
          "text": [
            "batch_1_000006.\n"
          ]
        }
      ]
    },
    {
      "cell_type": "code",
      "source": [
        "for image in X_train.img_file:\n",
        "  try:\n",
        "   shutil.copy(rootdir+'/'+image, rootdir +'/train/')\n",
        "  except:\n",
        "   shutil.copy(rootdir+'/'+image[0:15]+'jpg', rootdir +'/train/')\n"
      ],
      "metadata": {
        "id": "vTXkRP4LjFYx"
      },
      "execution_count": null,
      "outputs": []
    },
    {
      "cell_type": "code",
      "source": [
        "X_train.to_csv (r'/content/drive/MyDrive/data/trainCSV.csv', index = False, header=True)\n"
      ],
      "metadata": {
        "id": "eHG8oFkfol8-"
      },
      "execution_count": null,
      "outputs": []
    },
    {
      "cell_type": "markdown",
      "source": [],
      "metadata": {
        "id": "ljrYXCJFolHX"
      }
    },
    {
      "cell_type": "code",
      "source": [
        "for image in X_test.img_file:\n",
        "  try:\n",
        "   shutil.copy(rootdir+'/'+image, rootdir +'/test/')\n",
        "  except:\n",
        "   shutil.copy(rootdir+'/'+image[0:15]+'jpg', rootdir +'/test/')"
      ],
      "metadata": {
        "id": "LuMmg3tMktHC"
      },
      "execution_count": null,
      "outputs": []
    },
    {
      "cell_type": "code",
      "source": [
        "X_test.to_csv (r'/content/drive/MyDrive/data/testCSV.csv', index = False, header=True)"
      ],
      "metadata": {
        "id": "ot4NedP_o4jV"
      },
      "execution_count": null,
      "outputs": []
    },
    {
      "cell_type": "code",
      "source": [
        "for image in X_val.img_file:\n",
        "  try:\n",
        "   shutil.copy(rootdir+'/'+image, rootdir +'/val/')\n",
        "  except:\n",
        "     shutil.copy(rootdir+'/'+image[0:15]+'jpg', rootdir +'/val/')"
      ],
      "metadata": {
        "id": "FNGwqG2YpEqz"
      },
      "execution_count": null,
      "outputs": []
    },
    {
      "cell_type": "code",
      "source": [
        "X_val.to_csv (r'/content/drive/MyDrive/data/valCSV.csv', index = False, header=True)"
      ],
      "metadata": {
        "id": "Ldw9y2bujijW"
      },
      "execution_count": null,
      "outputs": []
    },
    {
      "cell_type": "code",
      "source": [],
      "metadata": {
        "id": "31qk0uWDrW6a"
      },
      "execution_count": null,
      "outputs": []
    }
  ]
}